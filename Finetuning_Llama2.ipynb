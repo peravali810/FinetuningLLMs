{
  "nbformat": 4,
  "nbformat_minor": 0,
  "metadata": {
    "colab": {
      "provenance": [],
      "gpuType": "T4",
      "toc_visible": true,
      "authorship_tag": "ABX9TyMGr1eaBgzmhTEMkqPWShT/",
      "include_colab_link": true
    },
    "kernelspec": {
      "name": "python3",
      "display_name": "Python 3"
    },
    "language_info": {
      "name": "python"
    },
    "accelerator": "GPU"
  },
  "cells": [
    {
      "cell_type": "markdown",
      "metadata": {
        "id": "view-in-github",
        "colab_type": "text"
      },
      "source": [
        "<a href=\"https://colab.research.google.com/github/peravali810/FinetuningLLMs/blob/main/Finetuning_Llama2.ipynb\" target=\"_parent\"><img src=\"https://colab.research.google.com/assets/colab-badge.svg\" alt=\"Open In Colab\"/></a>"
      ]
    },
    {
      "cell_type": "code",
      "source": [
        "!pip install -q accelerate peft bitsandbytes transformers trl"
      ],
      "metadata": {
        "id": "qCOd-X8AwNEa"
      },
      "execution_count": null,
      "outputs": []
    },
    {
      "cell_type": "markdown",
      "source": [
        "#Step 1: Installing required packages"
      ],
      "metadata": {
        "id": "1zDnA-UkUQ2C"
      }
    },
    {
      "cell_type": "markdown",
      "source": [
        "#Step 2: Importing all installed libraries"
      ],
      "metadata": {
        "id": "D0GISBqTVml0"
      }
    },
    {
      "cell_type": "code",
      "source": [
        "import os\n",
        "import torch\n",
        "from datasets import load_dataset\n",
        "from transformers import (\n",
        "    AutoModelForCausalLM,\n",
        "    AutoTokenizer,\n",
        "    BitsAndBytesConfig,\n",
        "    pipeline,\n",
        "    logging,\n",
        "    HfArgumentParser,\n",
        "    TrainingArguments\n",
        ")\n",
        "from peft import LoraConfig, PeftModel\n",
        "from trl import SFTTrainer"
      ],
      "metadata": {
        "id": "qF7I60-3WgGz"
      },
      "execution_count": null,
      "outputs": []
    },
    {
      "cell_type": "markdown",
      "source": [
        "#Step 3: Gathering Model, Dataset and Parameters"
      ],
      "metadata": {
        "id": "MIkHrDodbP-p"
      }
    },
    {
      "cell_type": "code",
      "source": [
        "#Selected model from huggingface\n",
        "mode_name = 'NousResearch/Llama-2-7b-chat-hf'\n",
        "\n",
        "#Selected Dataset\n",
        "dataset_name = 'timdettmers/openassistant-guanaco'\n",
        "\n",
        "#final model name\n",
        "new_model = 'PJ-Llama-2-7b-chat'\n",
        "\n",
        "#QLoRA parameters\n",
        "lora_r = 64 #attention dimension\n",
        "lora_alpha = 16 #Alpha param for LoRA scaling\n",
        "lora_dropout = 0.1 #Dropout pobability of layers\n",
        "\n",
        "#bitsandbytes parameters\n",
        "use_4bit = True #Activate 4-bit precision base model\n",
        "bnb_4bit_compute_dtype = 'float16' #Computer dtype for 4-bit base models\n",
        "bnb_4bit_quant_type = 'nf4' #Quantization type\n",
        "use_nested_quant = False #Use nested quantization\n",
        "\n",
        "#Training  Argument parameters\n",
        "\n",
        "output_dir = './results'\n",
        "num_train_epochs = 1\n",
        "fp16 = False\n",
        "bf16 = False\n",
        "per_device_train_batch_size = 3\n",
        "per_device_eval_batch_size = 3\n",
        "gradient_accumulation_steps = 2\n",
        "gradient_checkpointing = True\n",
        "max_grad_norm = 0.3\n",
        "learning_rate = 2e-4\n",
        "weight_decay = 0.001\n",
        "optim = 'paged_adamw_32bit'\n",
        "lr_scheduler_type = 'cosine'\n",
        "max_steps = -1\n",
        "warmup_ratio = 0.03\n",
        "group_by_length = True\n",
        "save_steps = 0\n",
        "logging_steps = 25\n",
        "\n",
        "#SFT Parameters\n",
        "device_map = {\"\":0}\n"
      ],
      "metadata": {
        "id": "-5lC5GQim-vG"
      },
      "execution_count": null,
      "outputs": []
    },
    {
      "cell_type": "code",
      "source": [
        "torch.cuda.empty_cache()"
      ],
      "metadata": {
        "id": "KDe0z8Gmz4jn"
      },
      "execution_count": null,
      "outputs": []
    },
    {
      "cell_type": "markdown",
      "source": [
        "#Step 4: Loading all and start Fiine tuning process\n"
      ],
      "metadata": {
        "id": "hEhCTh42k13A"
      }
    },
    {
      "cell_type": "code",
      "source": [
        "#Loading dataset\n",
        "dataset = load_dataset(dataset_name, split='train')\n",
        "\n",
        "#Loading tokenizer and model with QLoRA config\n",
        "compute_dtype = getattr(torch, bnb_4bit_compute_dtype)\n",
        "\n",
        "bnb_config = BitsAndBytesConfig(\n",
        "    load_in_4bit=use_4bit,\n",
        "    bnb_4bit_quant_type=bnb_4bit_quant_type,\n",
        "    bnb_4bit_compute_dtype=compute_dtype,\n",
        "    bnb_4bit_use_double_quant=use_nested_quant\n",
        ")\n",
        "\n",
        "#checking gpu compatibility with bfloat16\n",
        "if compute_dtype == torch.float16 and use_4bit:\n",
        "  major, _ = torch.cuda.get_device_capability()\n",
        "  if major >= 8:\n",
        "    print('='* 80)\n",
        "    print('Your GPU supports bfloat16: accelerate training with bf16=True')\n",
        "    print('='* 80)\n",
        "\n",
        "#loading base model\n",
        "model = AutoModelForCausalLM.from_pretrained(\n",
        "    mode_name,\n",
        "    quantization_config=bnb_config,\n",
        "    device_map=device_map\n",
        ")\n",
        "model.config.use_cache = False\n",
        "model.config.pretraining_tp = 1\n",
        "\n",
        "\n",
        "#Loading LLaMA tokenizer\n",
        "tokenizer = AutoTokenizer.from_pretrained(mode_name,trust_remote_code=True)\n",
        "tokenizer.pad_taken = tokenizer.eos_token_id\n",
        "tokenizer.padding_side = 'right'\n",
        "\n",
        "\n",
        "#Loading LoRA Config\n",
        "peft_config =  LoraConfig(\n",
        "    lora_alpha=lora_alpha,\n",
        "    lora_dropout=lora_dropout,\n",
        "    r=lora_r,\n",
        "    bias='none',\n",
        "    task_type='CAUSAL_LM'\n",
        ")\n",
        "\n",
        "#Set Training param\n",
        "training_arguments = TrainingArguments(\n",
        "    output_dir=output_dir,\n",
        "    num_train_epochs=num_train_epochs,\n",
        "    per_device_train_batch_size=per_device_train_batch_size,\n",
        "    gradient_accumulation_steps=gradient_accumulation_steps,\n",
        "    optim=optim,\n",
        "    save_steps=save_steps,\n",
        "    logging_steps=logging_steps,\n",
        "    learning_rate=learning_rate,\n",
        "    weight_decay=weight_decay,\n",
        "    fp16=fp16,\n",
        "    bf16=bf16,\n",
        "    max_grad_norm=max_grad_norm,\n",
        "    max_steps=max_steps,\n",
        "    warmup_ratio=warmup_ratio,\n",
        "    group_by_length=group_by_length,\n",
        "    lr_scheduler_type=lr_scheduler_type,\n",
        "    report_to=\"tensorboard\",\n",
        ")\n",
        "\n",
        "#Setting supervised finetuning param\n",
        "\n",
        "trainer = SFTTrainer(\n",
        "    model=model,\n",
        "    train_dataset=dataset,\n",
        "    peft_config=peft_config,\n",
        "    args=training_arguments\n",
        ")\n",
        "\n",
        "#Train model\n",
        "trainer.train()\n",
        "\n",
        "#Save trained model\n",
        "trainer.model.save_pretrained(new_model)\n"
      ],
      "metadata": {
        "id": "TGLMJk7WoOMw"
      },
      "execution_count": null,
      "outputs": []
    }
  ]
}